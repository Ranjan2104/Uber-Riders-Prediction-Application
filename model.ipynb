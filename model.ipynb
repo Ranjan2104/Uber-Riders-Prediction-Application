{
 "cells": [
  {
   "cell_type": "code",
   "execution_count": 1,
   "id": "b5472ac4-9920-4622-a58b-0983f3ce33d4",
   "metadata": {},
   "outputs": [],
   "source": [
    "import numpy as np\n",
    "import pandas as pd"
   ]
  },
  {
   "cell_type": "code",
   "execution_count": 2,
   "id": "4122aae2-68e0-49ff-8cde-cceedfabe303",
   "metadata": {},
   "outputs": [
    {
     "data": {
      "text/html": [
       "<div>\n",
       "<style scoped>\n",
       "    .dataframe tbody tr th:only-of-type {\n",
       "        vertical-align: middle;\n",
       "    }\n",
       "\n",
       "    .dataframe tbody tr th {\n",
       "        vertical-align: top;\n",
       "    }\n",
       "\n",
       "    .dataframe thead th {\n",
       "        text-align: right;\n",
       "    }\n",
       "</style>\n",
       "<table border=\"1\" class=\"dataframe\">\n",
       "  <thead>\n",
       "    <tr style=\"text-align: right;\">\n",
       "      <th></th>\n",
       "      <th>Priceperweek</th>\n",
       "      <th>Population</th>\n",
       "      <th>Monthlyincome</th>\n",
       "      <th>Averageparkingpermonth</th>\n",
       "      <th>Numberofweeklyriders</th>\n",
       "    </tr>\n",
       "  </thead>\n",
       "  <tbody>\n",
       "    <tr>\n",
       "      <th>0</th>\n",
       "      <td>15</td>\n",
       "      <td>1800000</td>\n",
       "      <td>5800</td>\n",
       "      <td>50</td>\n",
       "      <td>192000</td>\n",
       "    </tr>\n",
       "    <tr>\n",
       "      <th>1</th>\n",
       "      <td>15</td>\n",
       "      <td>1790000</td>\n",
       "      <td>6200</td>\n",
       "      <td>50</td>\n",
       "      <td>190400</td>\n",
       "    </tr>\n",
       "    <tr>\n",
       "      <th>2</th>\n",
       "      <td>15</td>\n",
       "      <td>1780000</td>\n",
       "      <td>6400</td>\n",
       "      <td>60</td>\n",
       "      <td>191200</td>\n",
       "    </tr>\n",
       "    <tr>\n",
       "      <th>3</th>\n",
       "      <td>25</td>\n",
       "      <td>1778000</td>\n",
       "      <td>6500</td>\n",
       "      <td>60</td>\n",
       "      <td>177600</td>\n",
       "    </tr>\n",
       "    <tr>\n",
       "      <th>4</th>\n",
       "      <td>25</td>\n",
       "      <td>1750000</td>\n",
       "      <td>6550</td>\n",
       "      <td>60</td>\n",
       "      <td>176800</td>\n",
       "    </tr>\n",
       "  </tbody>\n",
       "</table>\n",
       "</div>"
      ],
      "text/plain": [
       "   Priceperweek  Population  Monthlyincome  Averageparkingpermonth  \\\n",
       "0            15     1800000           5800                      50   \n",
       "1            15     1790000           6200                      50   \n",
       "2            15     1780000           6400                      60   \n",
       "3            25     1778000           6500                      60   \n",
       "4            25     1750000           6550                      60   \n",
       "\n",
       "   Numberofweeklyriders  \n",
       "0                192000  \n",
       "1                190400  \n",
       "2                191200  \n",
       "3                177600  \n",
       "4                176800  "
      ]
     },
     "execution_count": 2,
     "metadata": {},
     "output_type": "execute_result"
    }
   ],
   "source": [
    "df = pd.read_csv('taxi.csv')\n",
    "df.head()"
   ]
  },
  {
   "cell_type": "code",
   "execution_count": 5,
   "id": "a549c1a8-b9e0-4f2f-add3-d74383f45f67",
   "metadata": {
    "collapsed": true,
    "jupyter": {
     "outputs_hidden": true
    },
    "tags": []
   },
   "outputs": [
    {
     "data": {
      "text/html": [
       "<div>\n",
       "<style scoped>\n",
       "    .dataframe tbody tr th:only-of-type {\n",
       "        vertical-align: middle;\n",
       "    }\n",
       "\n",
       "    .dataframe tbody tr th {\n",
       "        vertical-align: top;\n",
       "    }\n",
       "\n",
       "    .dataframe thead th {\n",
       "        text-align: right;\n",
       "    }\n",
       "</style>\n",
       "<table border=\"1\" class=\"dataframe\">\n",
       "  <thead>\n",
       "    <tr style=\"text-align: right;\">\n",
       "      <th></th>\n",
       "      <th>Priceperweek</th>\n",
       "      <th>Population</th>\n",
       "      <th>Monthlyincome</th>\n",
       "      <th>Averageparkingpermonth</th>\n",
       "    </tr>\n",
       "  </thead>\n",
       "  <tbody>\n",
       "    <tr>\n",
       "      <th>0</th>\n",
       "      <td>15</td>\n",
       "      <td>1800000</td>\n",
       "      <td>5800</td>\n",
       "      <td>50</td>\n",
       "    </tr>\n",
       "    <tr>\n",
       "      <th>1</th>\n",
       "      <td>15</td>\n",
       "      <td>1790000</td>\n",
       "      <td>6200</td>\n",
       "      <td>50</td>\n",
       "    </tr>\n",
       "    <tr>\n",
       "      <th>2</th>\n",
       "      <td>15</td>\n",
       "      <td>1780000</td>\n",
       "      <td>6400</td>\n",
       "      <td>60</td>\n",
       "    </tr>\n",
       "    <tr>\n",
       "      <th>3</th>\n",
       "      <td>25</td>\n",
       "      <td>1778000</td>\n",
       "      <td>6500</td>\n",
       "      <td>60</td>\n",
       "    </tr>\n",
       "    <tr>\n",
       "      <th>4</th>\n",
       "      <td>25</td>\n",
       "      <td>1750000</td>\n",
       "      <td>6550</td>\n",
       "      <td>60</td>\n",
       "    </tr>\n",
       "    <tr>\n",
       "      <th>5</th>\n",
       "      <td>25</td>\n",
       "      <td>1740000</td>\n",
       "      <td>6580</td>\n",
       "      <td>70</td>\n",
       "    </tr>\n",
       "    <tr>\n",
       "      <th>6</th>\n",
       "      <td>25</td>\n",
       "      <td>1725000</td>\n",
       "      <td>8200</td>\n",
       "      <td>75</td>\n",
       "    </tr>\n",
       "    <tr>\n",
       "      <th>7</th>\n",
       "      <td>30</td>\n",
       "      <td>1725000</td>\n",
       "      <td>8600</td>\n",
       "      <td>75</td>\n",
       "    </tr>\n",
       "    <tr>\n",
       "      <th>8</th>\n",
       "      <td>30</td>\n",
       "      <td>1720000</td>\n",
       "      <td>8800</td>\n",
       "      <td>75</td>\n",
       "    </tr>\n",
       "    <tr>\n",
       "      <th>9</th>\n",
       "      <td>30</td>\n",
       "      <td>1705000</td>\n",
       "      <td>9200</td>\n",
       "      <td>80</td>\n",
       "    </tr>\n",
       "    <tr>\n",
       "      <th>10</th>\n",
       "      <td>30</td>\n",
       "      <td>1710000</td>\n",
       "      <td>9630</td>\n",
       "      <td>80</td>\n",
       "    </tr>\n",
       "    <tr>\n",
       "      <th>11</th>\n",
       "      <td>40</td>\n",
       "      <td>1700000</td>\n",
       "      <td>10570</td>\n",
       "      <td>80</td>\n",
       "    </tr>\n",
       "    <tr>\n",
       "      <th>12</th>\n",
       "      <td>40</td>\n",
       "      <td>1695000</td>\n",
       "      <td>11330</td>\n",
       "      <td>85</td>\n",
       "    </tr>\n",
       "    <tr>\n",
       "      <th>13</th>\n",
       "      <td>40</td>\n",
       "      <td>1695000</td>\n",
       "      <td>11600</td>\n",
       "      <td>100</td>\n",
       "    </tr>\n",
       "    <tr>\n",
       "      <th>14</th>\n",
       "      <td>40</td>\n",
       "      <td>1690000</td>\n",
       "      <td>11800</td>\n",
       "      <td>105</td>\n",
       "    </tr>\n",
       "    <tr>\n",
       "      <th>15</th>\n",
       "      <td>40</td>\n",
       "      <td>1630000</td>\n",
       "      <td>11830</td>\n",
       "      <td>105</td>\n",
       "    </tr>\n",
       "    <tr>\n",
       "      <th>16</th>\n",
       "      <td>65</td>\n",
       "      <td>1640000</td>\n",
       "      <td>12650</td>\n",
       "      <td>105</td>\n",
       "    </tr>\n",
       "    <tr>\n",
       "      <th>17</th>\n",
       "      <td>102</td>\n",
       "      <td>1635000</td>\n",
       "      <td>13000</td>\n",
       "      <td>110</td>\n",
       "    </tr>\n",
       "    <tr>\n",
       "      <th>18</th>\n",
       "      <td>75</td>\n",
       "      <td>1630000</td>\n",
       "      <td>13224</td>\n",
       "      <td>125</td>\n",
       "    </tr>\n",
       "    <tr>\n",
       "      <th>19</th>\n",
       "      <td>75</td>\n",
       "      <td>1620000</td>\n",
       "      <td>13766</td>\n",
       "      <td>130</td>\n",
       "    </tr>\n",
       "    <tr>\n",
       "      <th>20</th>\n",
       "      <td>75</td>\n",
       "      <td>1615000</td>\n",
       "      <td>14010</td>\n",
       "      <td>150</td>\n",
       "    </tr>\n",
       "    <tr>\n",
       "      <th>21</th>\n",
       "      <td>80</td>\n",
       "      <td>1605000</td>\n",
       "      <td>14468</td>\n",
       "      <td>155</td>\n",
       "    </tr>\n",
       "    <tr>\n",
       "      <th>22</th>\n",
       "      <td>86</td>\n",
       "      <td>1590000</td>\n",
       "      <td>15000</td>\n",
       "      <td>165</td>\n",
       "    </tr>\n",
       "    <tr>\n",
       "      <th>23</th>\n",
       "      <td>98</td>\n",
       "      <td>1595000</td>\n",
       "      <td>15200</td>\n",
       "      <td>175</td>\n",
       "    </tr>\n",
       "    <tr>\n",
       "      <th>24</th>\n",
       "      <td>87</td>\n",
       "      <td>1590000</td>\n",
       "      <td>15600</td>\n",
       "      <td>175</td>\n",
       "    </tr>\n",
       "    <tr>\n",
       "      <th>25</th>\n",
       "      <td>77</td>\n",
       "      <td>1600000</td>\n",
       "      <td>16000</td>\n",
       "      <td>190</td>\n",
       "    </tr>\n",
       "    <tr>\n",
       "      <th>26</th>\n",
       "      <td>63</td>\n",
       "      <td>1610000</td>\n",
       "      <td>16200</td>\n",
       "      <td>200</td>\n",
       "    </tr>\n",
       "  </tbody>\n",
       "</table>\n",
       "</div>"
      ],
      "text/plain": [
       "    Priceperweek  Population  Monthlyincome  Averageparkingpermonth\n",
       "0             15     1800000           5800                      50\n",
       "1             15     1790000           6200                      50\n",
       "2             15     1780000           6400                      60\n",
       "3             25     1778000           6500                      60\n",
       "4             25     1750000           6550                      60\n",
       "5             25     1740000           6580                      70\n",
       "6             25     1725000           8200                      75\n",
       "7             30     1725000           8600                      75\n",
       "8             30     1720000           8800                      75\n",
       "9             30     1705000           9200                      80\n",
       "10            30     1710000           9630                      80\n",
       "11            40     1700000          10570                      80\n",
       "12            40     1695000          11330                      85\n",
       "13            40     1695000          11600                     100\n",
       "14            40     1690000          11800                     105\n",
       "15            40     1630000          11830                     105\n",
       "16            65     1640000          12650                     105\n",
       "17           102     1635000          13000                     110\n",
       "18            75     1630000          13224                     125\n",
       "19            75     1620000          13766                     130\n",
       "20            75     1615000          14010                     150\n",
       "21            80     1605000          14468                     155\n",
       "22            86     1590000          15000                     165\n",
       "23            98     1595000          15200                     175\n",
       "24            87     1590000          15600                     175\n",
       "25            77     1600000          16000                     190\n",
       "26            63     1610000          16200                     200"
      ]
     },
     "execution_count": 5,
     "metadata": {},
     "output_type": "execute_result"
    }
   ],
   "source": [
    "x_data = df.iloc[:, 0 : -1]\n",
    "x_data"
   ]
  },
  {
   "cell_type": "code",
   "execution_count": 7,
   "id": "7001970d-e388-4ceb-b6be-0d801303dfc7",
   "metadata": {
    "collapsed": true,
    "jupyter": {
     "outputs_hidden": true
    },
    "tags": []
   },
   "outputs": [
    {
     "data": {
      "text/plain": [
       "0     192000\n",
       "1     190400\n",
       "2     191200\n",
       "3     177600\n",
       "4     176800\n",
       "5     178400\n",
       "6     180800\n",
       "7     175200\n",
       "8     174400\n",
       "9     173920\n",
       "10    172800\n",
       "11    163200\n",
       "12    161600\n",
       "13    161600\n",
       "14    160800\n",
       "15    159200\n",
       "16    148800\n",
       "17    115696\n",
       "18    147200\n",
       "19    150400\n",
       "20    152000\n",
       "21    136000\n",
       "22    126240\n",
       "23    123888\n",
       "24    126080\n",
       "25    151680\n",
       "26    152800\n",
       "Name: Numberofweeklyriders, dtype: int64"
      ]
     },
     "execution_count": 7,
     "metadata": {},
     "output_type": "execute_result"
    }
   ],
   "source": [
    "y_data = df.iloc[:, -1]\n",
    "y_data"
   ]
  },
  {
   "cell_type": "code",
   "execution_count": 8,
   "id": "6fca0eca-3bff-4931-945c-1f926dac4b4b",
   "metadata": {},
   "outputs": [],
   "source": [
    "from sklearn.model_selection import train_test_split"
   ]
  },
  {
   "cell_type": "code",
   "execution_count": 9,
   "id": "6d378371-05a8-4434-8d83-005da299d7cc",
   "metadata": {},
   "outputs": [],
   "source": [
    "X_train, X_test, y_train, y_test = train_test_split(x_data, y_data, test_size=0.3, random_state=0)"
   ]
  },
  {
   "cell_type": "code",
   "execution_count": 11,
   "id": "6da3a81a-d889-43ad-b81a-8ec079170806",
   "metadata": {},
   "outputs": [],
   "source": [
    "from sklearn.linear_model import LinearRegression"
   ]
  },
  {
   "cell_type": "code",
   "execution_count": 12,
   "id": "f6381a74-e399-4a74-8824-3de351609030",
   "metadata": {},
   "outputs": [],
   "source": [
    "model = LinearRegression()"
   ]
  },
  {
   "cell_type": "code",
   "execution_count": 13,
   "id": "a00a85e1-aef6-46df-bb21-1bd8933806d6",
   "metadata": {},
   "outputs": [
    {
     "data": {
      "text/plain": [
       "LinearRegression()"
      ]
     },
     "execution_count": 13,
     "metadata": {},
     "output_type": "execute_result"
    }
   ],
   "source": [
    "model.fit(X_train, y_train)"
   ]
  },
  {
   "cell_type": "code",
   "execution_count": 14,
   "id": "26274629-6d0a-44e6-8794-34e05fb3d9d9",
   "metadata": {},
   "outputs": [
    {
     "data": {
      "text/plain": [
       "0.9428364724316814"
      ]
     },
     "execution_count": 14,
     "metadata": {},
     "output_type": "execute_result"
    }
   ],
   "source": [
    "model.score(X_train, y_train)"
   ]
  },
  {
   "cell_type": "code",
   "execution_count": 15,
   "id": "0d85b423-15d2-44a6-bade-fed41a6f33d2",
   "metadata": {},
   "outputs": [
    {
     "data": {
      "text/plain": [
       "0.9157379222488222"
      ]
     },
     "execution_count": 15,
     "metadata": {},
     "output_type": "execute_result"
    }
   ],
   "source": [
    "model.score(X_test, y_test)"
   ]
  },
  {
   "cell_type": "code",
   "execution_count": 16,
   "id": "52a5c70c-9a7b-438a-bab2-8d680d9ae846",
   "metadata": {},
   "outputs": [],
   "source": [
    "import pickle"
   ]
  },
  {
   "cell_type": "code",
   "execution_count": 17,
   "id": "5c555016-031c-4a83-ab71-0ffb00287204",
   "metadata": {},
   "outputs": [],
   "source": [
    "pickle.dump(model, open('model.pkl', 'wb'))"
   ]
  },
  {
   "cell_type": "code",
   "execution_count": 19,
   "id": "4a24b879-5e8b-41a4-ade9-7c7655d7703f",
   "metadata": {},
   "outputs": [
    {
     "data": {
      "text/plain": [
       "array([190038.04651918])"
      ]
     },
     "execution_count": 19,
     "metadata": {},
     "output_type": "execute_result"
    }
   ],
   "source": [
    "# Model Test\n",
    "model.predict([[15, 1800000, 5800, 50]])"
   ]
  },
  {
   "cell_type": "code",
   "execution_count": null,
   "id": "f69ea192-4caf-4855-ba0f-0ac05679d638",
   "metadata": {},
   "outputs": [],
   "source": []
  },
  {
   "cell_type": "code",
   "execution_count": null,
   "id": "51c2e4ba-30e2-482a-995c-3453aaa8105e",
   "metadata": {},
   "outputs": [],
   "source": []
  }
 ],
 "metadata": {
  "kernelspec": {
   "display_name": "Python 3",
   "language": "python",
   "name": "python3"
  },
  "language_info": {
   "codemirror_mode": {
    "name": "ipython",
    "version": 3
   },
   "file_extension": ".py",
   "mimetype": "text/x-python",
   "name": "python",
   "nbconvert_exporter": "python",
   "pygments_lexer": "ipython3",
   "version": "3.8.2"
  }
 },
 "nbformat": 4,
 "nbformat_minor": 5
}
